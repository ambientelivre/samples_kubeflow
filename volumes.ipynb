{
 "cells": [
  {
   "cell_type": "code",
   "execution_count": 29,
   "id": "d58f634a",
   "metadata": {},
   "outputs": [],
   "source": [
    "import kfp.dsl as dsl"
   ]
  },
  {
   "cell_type": "code",
   "execution_count": 30,
   "id": "21aea937",
   "metadata": {},
   "outputs": [],
   "source": [
    "@dsl.pipeline(\n",
    "    name=\"Volume Op DAG\",\n",
    "    description=\"The second example of the design doc.\"\n",
    ")\n",
    "def volume_op_dag():    \n",
    "    vopA = dsl.VolumeOp(\n",
    "        name=\"create_pvca\",\n",
    "        resource_name=\"my-pvca\",\n",
    "        size=\"10Gi\",\n",
    "        modes=dsl.VOLUME_MODE_RWO\n",
    "    )\n",
    "\n",
    "    step1 = dsl.ContainerOp(\n",
    "        name=\"step1\",\n",
    "        image=\"library/bash:4.4.23\",\n",
    "        command=[\"sh\", \"-c\"],\n",
    "        arguments=[\"echo 1 | tee /mnt/file_test_1\"],\n",
    "        pvolumes={\"/mnt\": vopA.volume}\n",
    "    )\n",
    "\n",
    "    step2 = dsl.ContainerOp(\n",
    "        name=\"step2\",\n",
    "        image=\"library/bash:4.4.23\",\n",
    "        command=[\"sh\", \"-c\"],\n",
    "        arguments=[\"echo 2 | tee /mnt2/file_test_2\"],\n",
    "        pvolumes={\"/mnt2\": vopA.volume}\n",
    "    )\n",
    "\n",
    "    step3 = dsl.ContainerOp(\n",
    "        name=\"step3\",\n",
    "        image=\"library/bash:4.4.23\",\n",
    "        command=[\"sh\", \"-c\"],\n",
    "        arguments=[\"cat /mnt/file1 /mnt/file2 /mnt/file_test_1 /mnt/file_test_2\"],\n",
    "        pvolumes={\"/mnt\": vopA.volume.after(step1, step2)}\n",
    "    )"
   ]
  },
  {
   "cell_type": "code",
   "execution_count": 31,
   "id": "0d9fcbcc",
   "metadata": {},
   "outputs": [],
   "source": [
    "import kfp\n",
    "import kfp.compiler as compiler\n",
    "compiler.Compiler().compile(volume_op_dag, \"exemplo_volume\" + \".tar.gz\")"
   ]
  },
  {
   "cell_type": "code",
   "execution_count": 32,
   "id": "076391b3",
   "metadata": {},
   "outputs": [
    {
     "data": {
      "text/html": [
       "<a href=\"http://localhost:8080/pipeline/#/experiments/details/e0848577-2f4e-4e89-bdfa-b458b4771102\" target=\"_blank\" >Experiment details</a>."
      ],
      "text/plain": [
       "<IPython.core.display.HTML object>"
      ]
     },
     "metadata": {},
     "output_type": "display_data"
    },
    {
     "data": {
      "text/html": [
       "<a href=\"http://localhost:8080/pipeline/#/runs/details/a2a8f93d-c72e-49e9-8d8c-09a50f857bba\" target=\"_blank\" >Run details</a>."
      ],
      "text/plain": [
       "<IPython.core.display.HTML object>"
      ]
     },
     "metadata": {},
     "output_type": "display_data"
    }
   ],
   "source": [
    "run_result = kfp.Client(host='http://localhost:8080/pipeline').create_run_from_pipeline_package('exemplo_volume.tar.gz', arguments={},)"
   ]
  },
  {
   "cell_type": "code",
   "execution_count": null,
   "id": "825094fb",
   "metadata": {},
   "outputs": [],
   "source": []
  }
 ],
 "metadata": {
  "kernelspec": {
   "display_name": "Python 3 (ipykernel)",
   "language": "python",
   "name": "python3"
  },
  "language_info": {
   "codemirror_mode": {
    "name": "ipython",
    "version": 3
   },
   "file_extension": ".py",
   "mimetype": "text/x-python",
   "name": "python",
   "nbconvert_exporter": "python",
   "pygments_lexer": "ipython3",
   "version": "3.9.2"
  }
 },
 "nbformat": 4,
 "nbformat_minor": 5
}
