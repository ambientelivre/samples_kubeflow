{
 "cells": [
  {
   "cell_type": "code",
   "execution_count": 1,
   "id": "18f4b9f2",
   "metadata": {},
   "outputs": [],
   "source": [
    "import kfp\n",
    "import kfp.components as comp\n",
    "import kfp.dsl as dsl\n",
    "import kfp.compiler as cpl\n",
    "from kfp.components import InputPath, InputTextFile, OutputPath, OutputTextFile\n",
    "from typing import Dict # Biblioteca nativa do python\n",
    "import os "
   ]
  },
  {
   "cell_type": "code",
   "execution_count": 2,
   "id": "664f4436",
   "metadata": {},
   "outputs": [],
   "source": [
    "# Parâmetros Opcionais\n",
    "BASE_IMAGE = 'tensorflow/tensorflow:1.11.0-py3'\n",
    "\n",
    "# O Dataset já vem pré-processado e normalizado\n",
    "DATASET = 'https://raw.githubusercontent.com/ambientelivre/samples_kubeflow/main/datasets/bolsa.csv'\n",
    "\n",
    "PIPELINE_NAME = 'Pipeline Previsao Dolar'\n",
    "PIPELINE_DESCRIPTION = 'Dados Bolsa X Dolar'\n",
    "\n",
    "PIPELINES_PATH = 'pipelines'\n",
    "OUTPUT_PIPELINE_PATH = os.path.join(PIPELINES_PATH,'pipe_bolsa.yaml')\n",
    "\n",
    "if not os.path.exists(PIPELINES_PATH):\n",
    "    os.makedirs(PIPELINES_PATH)\n",
    "\n",
    "EXPERIMENT_NAME = 'TESTES-AMBIENTE-BOLSA-X-DOLAR'\n",
    "RUN_NAME = 'PIPELINE-RUN-BOLSA-X-DOLAR'\n",
    "\n",
    "# MODEL_NAME = 'bolsa_pipeline_model_' + str(int(time.time())) \n",
    "# OUTPUT_MODEL_PATH = 'models/'\n",
    "\n",
    "# MODEL_VERSION = 'bolsa_pipeline_model_v1' + str(int(time.time())) "
   ]
  },
  {
   "cell_type": "code",
   "execution_count": 3,
   "id": "065165a0",
   "metadata": {},
   "outputs": [],
   "source": [
    "def treina(feat:str, label:str, dataset:str, output_model_path:OutputPath(str)) :\n",
    "    \"\"\"\n",
    "    A função retorna o caminho até o binário do arquivo que contém o modelo treinado.\n",
    "    Isso fica implícito quando declaramos OutputPath(str).\n",
    "    \"\"\"\n",
    "\n",
    "    import pickle\n",
    "    import pandas as pd\n",
    "    from sklearn.linear_model import LinearRegression\n",
    "    \n",
    "    # Recebe o dataset e treina o algoritmo\n",
    "    df = pd.read_csv(dataset)\n",
    "    reglin = LinearRegression()\n",
    "    reglin.fit(df[[feat]], df[label])\n",
    "    \n",
    "    # Registra o binário do modelo treinado no caminho até o arquivo \"output_model_path\" no minIO\n",
    "    with open(output_model_path, 'wb') as f:\n",
    "        pickle.dump(reglin, f)\n",
    "    "
   ]
  },
  {
   "cell_type": "code",
   "execution_count": 4,
   "id": "209d6387",
   "metadata": {},
   "outputs": [],
   "source": [
    "comp_treina = comp.create_component_from_func(treina, output_component_file='treina_component.yaml',\n",
    "                                              base_image=BASE_IMAGE)"
   ]
  },
  {
   "cell_type": "code",
   "execution_count": 5,
   "id": "ebcaa31e",
   "metadata": {},
   "outputs": [],
   "source": [
    "def valida(feat:str, label:str, dataset:str, model_path:InputPath()) -> Dict[str,float]:\n",
    "    \n",
    "    import pickle\n",
    "    import pandas as pd\n",
    "    from sklearn.metrics import mean_squared_error, r2_score, mean_absolute_error\n",
    "    \n",
    "    # Importando o dataset\n",
    "    df = pd.read_csv(dataset)\n",
    "    y_true = df[label]\n",
    "    \n",
    "    # Importando o modelo serializado como um objeto python\n",
    "    with open(model_path, 'rb') as f:\n",
    "        trained_model = pickle.load(f)\n",
    "    \n",
    "    y_pred = trained_model.predict(df[[feat]])\n",
    "    \n",
    "    # Calcula as métricas de desempenho do modelo para o problema de regressão\n",
    "    r2 = r2_score(y_true, y_pred)\n",
    "    mse = mean_squared_error(y_true, y_pred)\n",
    "    mae = mean_absolute_error(y_true, y_pred)\n",
    "    \n",
    "    valida_metrics = {\n",
    "        'r2' : r2,\n",
    "        'mse' : mse,\n",
    "        'mae' : mae\n",
    "    }\n",
    "    \n",
    "    # Retorna um dicionário com o cálculo das métricas\n",
    "\n",
    "    return valida_metrics"
   ]
  },
  {
   "cell_type": "code",
   "execution_count": 6,
   "id": "e708256e",
   "metadata": {},
   "outputs": [],
   "source": [
    "comp_valida = comp.create_component_from_func(valida, output_component_file='valida_component.yaml'\n",
    "                                              ,base_image=BASE_IMAGE)"
   ]
  },
  {
   "cell_type": "code",
   "execution_count": 7,
   "id": "b0b8084f",
   "metadata": {},
   "outputs": [],
   "source": [
    "def previsao(feat:str, label:str, model_path:InputPath(), valor:float) -> float:\n",
    "\n",
    "    import pandas as pd\n",
    "    import pickle\n",
    "    \n",
    "    future = pd.DataFrame({feat:[valor]})\n",
    "    with open(model_path, 'rb') as f:\n",
    "        trained_model = pickle.load(f)\n",
    "\n",
    "    # Retorna a previsão do valor futuro do dólar quando a bolsa atinge ${valor} pontos\n",
    "        \n",
    "    return trained_model.predict(future)[0]\n",
    "    "
   ]
  },
  {
   "cell_type": "code",
   "execution_count": 8,
   "id": "bbb47279",
   "metadata": {},
   "outputs": [],
   "source": [
    "comp_previsao = comp.create_component_from_func(previsao, output_component_file='previsao_component.yaml'\n",
    "                                                ,base_image=BASE_IMAGE)"
   ]
  },
  {
   "cell_type": "code",
   "execution_count": 9,
   "id": "607ac2d2",
   "metadata": {},
   "outputs": [],
   "source": [
    "@dsl.pipeline(\n",
    "    name=PIPELINE_NAME,\n",
    "    description=PIPELINE_DESCRIPTION\n",
    ")\n",
    "def pipe(feat, label, valor, dataset):\n",
    "\n",
    "    # Treinamento do algoritmo\n",
    "    task_treina = comp_treina(feat, label, dataset)\n",
    "\n",
    "    # Validação do modelo\n",
    "    task_valida = comp_valida(feat, label, dataset, task_treina.output)\n",
    "\n",
    "    # Previsão final\n",
    "    task_previsao = comp_previsao(feat, label, task_treina.output, valor)"
   ]
  },
  {
   "cell_type": "code",
   "execution_count": 10,
   "id": "cc444e4d",
   "metadata": {},
   "outputs": [],
   "source": [
    "# Instanciando um objeto-cliente para integração com o Kubeflow\n",
    "client = kfp.Client(host='http://localhost:8080/pipeline')"
   ]
  },
  {
   "cell_type": "code",
   "execution_count": 11,
   "id": "32ca8116",
   "metadata": {},
   "outputs": [
    {
     "name": "stdout",
     "output_type": "stream",
     "text": [
      "{'experiments': [{'created_at': datetime.datetime(2023, 3, 19, 22, 38, 16, tzinfo=tzutc()),\n",
      "                  'description': 'All runs created without specifying an '\n",
      "                                 'experiment will be grouped here.',\n",
      "                  'id': '46e29c0a-18ee-4f8b-bee2-c413e627b904',\n",
      "                  'name': 'Default',\n",
      "                  'resource_references': None,\n",
      "                  'storage_state': 'STORAGESTATE_AVAILABLE'},\n",
      "                 {'created_at': datetime.datetime(2023, 3, 30, 20, 10, 8, tzinfo=tzutc()),\n",
      "                  'description': None,\n",
      "                  'id': '5ebd0a7a-c96b-4213-b67f-015ebe36395d',\n",
      "                  'name': 'TESTES-AMBIENTE-BOLSA-X-DOLAR',\n",
      "                  'resource_references': None,\n",
      "                  'storage_state': 'STORAGESTATE_AVAILABLE'},\n",
      "                 {'created_at': datetime.datetime(2023, 3, 31, 11, 32, 51, tzinfo=tzutc()),\n",
      "                  'description': 'aaa',\n",
      "                  'id': 'cefe222e-36de-4096-acab-ff6e7dc1ad1c',\n",
      "                  'name': 'Teste',\n",
      "                  'resource_references': None,\n",
      "                  'storage_state': 'STORAGESTATE_ARCHIVED'},\n",
      "                 {'created_at': datetime.datetime(2023, 3, 31, 11, 39, 5, tzinfo=tzutc()),\n",
      "                  'description': 'apenas teste da bolsa',\n",
      "                  'id': 'f28f22aa-9903-4419-ab37-bd82c771e17f',\n",
      "                  'name': 'TESTE_31_MAR',\n",
      "                  'resource_references': None,\n",
      "                  'storage_state': 'STORAGESTATE_AVAILABLE'}],\n",
      " 'next_page_token': None,\n",
      " 'total_size': 4}\n"
     ]
    }
   ],
   "source": [
    "args = {\n",
    "'feat': 'bolsa',\n",
    "'label': 'usd',\n",
    "'valor': '110',\n",
    "'dataset': DATASET\n",
    "}\n",
    "\n",
    "print(client.list_experiments())"
   ]
  },
  {
   "cell_type": "code",
   "execution_count": 12,
   "id": "b2841031",
   "metadata": {},
   "outputs": [
    {
     "data": {
      "text/html": [
       "<a href=\"http://localhost:8080/pipeline/#/experiments/details/5ebd0a7a-c96b-4213-b67f-015ebe36395d\" target=\"_blank\" >Experiment details</a>."
      ],
      "text/plain": [
       "<IPython.core.display.HTML object>"
      ]
     },
     "metadata": {},
     "output_type": "display_data"
    },
    {
     "data": {
      "text/html": [
       "<a href=\"http://localhost:8080/pipeline/#/runs/details/e988402e-d1a3-4f9e-ba4e-b31d359d3ebb\" target=\"_blank\" >Run details</a>."
      ],
      "text/plain": [
       "<IPython.core.display.HTML object>"
      ]
     },
     "metadata": {},
     "output_type": "display_data"
    },
    {
     "data": {
      "text/plain": [
       "RunPipelineResult(run_id=e988402e-d1a3-4f9e-ba4e-b31d359d3ebb)"
      ]
     },
     "execution_count": 12,
     "metadata": {},
     "output_type": "execute_result"
    }
   ],
   "source": [
    "# A execução do pipeline pode ser feita através do método create_run_from_pipeline_func()\n",
    "# que carrega as componentes \"comp_*\" já instanciadas no código e também o pipeline\n",
    "client.create_run_from_pipeline_func(pipe, arguments=args, experiment_name=EXPERIMENT_NAME, \n",
    "                                     run_name=RUN_NAME) "
   ]
  },
  {
   "cell_type": "code",
   "execution_count": 13,
   "id": "06ce6413",
   "metadata": {},
   "outputs": [],
   "source": [
    "# Outra forma de executarmos o pipeline é compilando ele gerando um .yaml \n",
    "# Desde que \n",
    "# que pode ser usado para criar e executar um pipeline\n",
    "cpl.Compiler().compile(\n",
    "    pipeline_func=pipe,\n",
    "    package_path=OUTPUT_PIPELINE_PATH\n",
    ")    "
   ]
  },
  {
   "cell_type": "code",
   "execution_count": 14,
   "id": "ed439486",
   "metadata": {},
   "outputs": [
    {
     "data": {
      "text/html": [
       "<a href=\"http://localhost:8080/pipeline/#/experiments/details/46e29c0a-18ee-4f8b-bee2-c413e627b904\" target=\"_blank\" >Experiment details</a>."
      ],
      "text/plain": [
       "<IPython.core.display.HTML object>"
      ]
     },
     "metadata": {},
     "output_type": "display_data"
    },
    {
     "data": {
      "text/html": [
       "<a href=\"http://localhost:8080/pipeline/#/runs/details/b4b5c2c7-944a-405a-864e-70d2403f6811\" target=\"_blank\" >Run details</a>."
      ],
      "text/plain": [
       "<IPython.core.display.HTML object>"
      ]
     },
     "metadata": {},
     "output_type": "display_data"
    },
    {
     "data": {
      "text/plain": [
       "RunPipelineResult(run_id=b4b5c2c7-944a-405a-864e-70d2403f6811)"
      ]
     },
     "execution_count": 14,
     "metadata": {},
     "output_type": "execute_result"
    }
   ],
   "source": [
    "client.create_run_from_pipeline_package(\n",
    "    pipeline_file=OUTPUT_PIPELINE_PATH,\n",
    "    arguments=args\n",
    ")"
   ]
  },
  {
   "cell_type": "code",
   "execution_count": null,
   "id": "1e118c8b",
   "metadata": {},
   "outputs": [],
   "source": []
  }
 ],
 "metadata": {
  "kernelspec": {
   "display_name": "Python 3 (ipykernel)",
   "language": "python",
   "name": "python3"
  },
  "language_info": {
   "codemirror_mode": {
    "name": "ipython",
    "version": 3
   },
   "file_extension": ".py",
   "mimetype": "text/x-python",
   "name": "python",
   "nbconvert_exporter": "python",
   "pygments_lexer": "ipython3",
   "version": "3.9.2"
  }
 },
 "nbformat": 4,
 "nbformat_minor": 5
}
