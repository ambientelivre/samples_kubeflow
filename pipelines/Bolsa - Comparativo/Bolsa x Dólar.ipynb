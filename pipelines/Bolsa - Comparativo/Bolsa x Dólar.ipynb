{
 "cells": [
  {
   "cell_type": "code",
   "execution_count": 83,
   "id": "18f4b9f2",
   "metadata": {},
   "outputs": [],
   "source": [
    "import kfp\n",
    "import kfp.components as comp\n",
    "import kfp.dsl as dsl\n",
    "import kfp.compiler as cpl\n",
    "from kfp.components import InputPath, InputTextFile, OutputPath, OutputTextFile\n",
    "from typing import Dict # Biblioteca nativa do python\n",
    "import os "
   ]
  },
  {
   "cell_type": "code",
   "execution_count": 49,
   "id": "664f4436",
   "metadata": {},
   "outputs": [],
   "source": [
    "# Parâmetros Opcionais\n",
    "BASE_IMAGE = 'tensorflow/tensorflow:1.11.0-py3'\n",
    "\n",
    "# O Dataset já vem pré-processado e normalizado\n",
    "DATASET = 'https://raw.githubusercontent.com/ambientelivre/samples_kubeflow/main/datasets/bolsa.csv'\n",
    "\n",
    "PIPELINE_NAME = 'Pipeline Previsao Dolar'\n",
    "PIPELINE_DESCRIPTION = 'Dados Bolsa X Dolar'\n",
    "\n",
    "PIPELINES_PATH = 'pipelines'\n",
    "OUTPUT_PIPELINE_PATH = os.path.join(PIPELINES_PATH,'pipe_bolsa.yaml')\n",
    "\n",
    "if not os.path.exists(PIPELINES_PATH):\n",
    "    os.makedirs(PIPELINES_PATH)\n",
    "\n",
    "EXPERIMENT_NAME = 'TESTES-AMBIENTE-BOLSA-X-DOLAR'\n",
    "RUN_NAME = 'PIPELINE-RUN-BOLSA-X-DOLAR'\n",
    "\n",
    "# MODEL_NAME = 'bolsa_pipeline_model_' + str(int(time.time())) \n",
    "# OUTPUT_MODEL_PATH = 'models/'\n",
    "\n",
    "# MODEL_VERSION = 'bolsa_pipeline_model_v1' + str(int(time.time())) "
   ]
  },
  {
   "cell_type": "code",
   "execution_count": 50,
   "id": "065165a0",
   "metadata": {},
   "outputs": [],
   "source": [
    "def treina(feat:str, label:str, dataset:str, output_model_path:OutputPath(str)) :\n",
    "    \"\"\"\n",
    "    A função retorna o caminho até o binário do arquivo que contém o modelo treinado.\n",
    "    Isso fica implícito quando declaramos OutputPath(str).\n",
    "    \"\"\"\n",
    "\n",
    "    import pickle\n",
    "    import pandas as pd\n",
    "    from sklearn.linear_model import LinearRegression\n",
    "    \n",
    "    # Recebe o dataset e treina o algoritmo\n",
    "    df = pd.read_csv(dataset)\n",
    "    reglin = LinearRegression()\n",
    "    reglin.fit(df[[feat]], df[label])\n",
    "    \n",
    "    # Registra o binário do modelo treinado no caminho até o arquivo \"output_model_path\" no minIO\n",
    "    with open(output_model_path, 'wb') as f:\n",
    "        pickle.dump(reglin, f)\n",
    "    "
   ]
  },
  {
   "cell_type": "code",
   "execution_count": 51,
   "id": "209d6387",
   "metadata": {},
   "outputs": [],
   "source": [
    "comp_treina = comp.create_component_from_func(treina, output_component_file='treina_component.yaml',\n",
    "                                              base_image=BASE_IMAGE)"
   ]
  },
  {
   "cell_type": "code",
   "execution_count": 52,
   "id": "0c2daef9",
   "metadata": {},
   "outputs": [],
   "source": [
    "def treina_2(feat:str, label:str, dataset:str, output_model_path:OutputPath(str)) :\n",
    "    \"\"\"\n",
    "    A função retorna o caminho até o binário do arquivo que contém o modelo treinado.\n",
    "    Isso fica implícito quando declaramos OutputPath(str).\n",
    "    \"\"\"\n",
    "\n",
    "    import pickle\n",
    "    import pandas as pd\n",
    "    from sklearn.tree import DecisionTreeRegressor\n",
    "\n",
    "    # Recebe o dataset e treina o algoritmo\n",
    "    df = pd.read_csv(dataset)\n",
    "    dtree = DecisionTreeRegressor(max_depth=5,  #1 para perder, 5 pra ganhar\n",
    "                                  random_state=0)\n",
    "    dtree.fit(df[[feat]], df[label])\n",
    "\n",
    "    # Registra o binário do modelo treinado no caminho até o arquivo \"output_model_path\" no minIO\n",
    "    with open(output_model_path, 'wb') as f:\n",
    "        pickle.dump(dtree, f)"
   ]
  },
  {
   "cell_type": "code",
   "execution_count": 53,
   "id": "85b90b07",
   "metadata": {},
   "outputs": [],
   "source": [
    "comp_treina_2 = comp.create_component_from_func(treina_2, output_component_file='treina_2_component.yaml',\n",
    "                                              base_image=BASE_IMAGE)"
   ]
  },
  {
   "cell_type": "code",
   "execution_count": 54,
   "id": "ebcaa31e",
   "metadata": {},
   "outputs": [],
   "source": [
    "def valida(feat:str, label:str, dataset:str, model_path:InputPath()) -> Dict[str,float]:\n",
    "    \n",
    "    import pickle\n",
    "    import pandas as pd\n",
    "    from sklearn.metrics import mean_squared_error, r2_score, mean_absolute_error\n",
    "    \n",
    "    # Importando o dataset\n",
    "    df = pd.read_csv(dataset)\n",
    "    y_true = df[label]\n",
    "    \n",
    "    # Importando o modelo serializado como um objeto python\n",
    "    with open(model_path, 'rb') as f:\n",
    "        trained_model = pickle.load(f)\n",
    "    \n",
    "    y_pred = trained_model.predict(df[[feat]])\n",
    "    \n",
    "    # Calcula as métricas de desempenho do modelo para o problema de regressão\n",
    "    r2 = r2_score(y_true, y_pred)\n",
    "    mse = mean_squared_error(y_true, y_pred)\n",
    "    mae = mean_absolute_error(y_true, y_pred)\n",
    "    \n",
    "    valida_metrics = {\n",
    "        'r2' : r2,\n",
    "        'mse' : mse, # comentar oq são\n",
    "        'mae' : mae\n",
    "    }\n",
    "    \n",
    "    # Retorna um dicionário com o cálculo das métricas\n",
    "\n",
    "    return valida_metrics"
   ]
  },
  {
   "cell_type": "code",
   "execution_count": 55,
   "id": "e708256e",
   "metadata": {},
   "outputs": [],
   "source": [
    "comp_valida = comp.create_component_from_func(valida, output_component_file='valida_component.yaml'\n",
    "                                              ,base_image=BASE_IMAGE)"
   ]
  },
  {
   "cell_type": "code",
   "execution_count": 56,
   "id": "c951ea9c",
   "metadata": {},
   "outputs": [],
   "source": [
    "def compara(metric:str, metrics1:Dict[str,float], metrics2:Dict[str,float]) -> int:\n",
    "    \n",
    "    val1 = float(metrics1[metric])\n",
    "    val2 = float(metrics2[metric])\n",
    "    \n",
    "    if (metric == 'mse' or metric == 'mae'):\n",
    "        val1 = -val1\n",
    "        val2 = -val2\n",
    "    \n",
    "    if (val2 > val1) :\n",
    "        return 2\n",
    "    elif (val2 < val1) :\n",
    "        return 1\n",
    "    else: \n",
    "        return 0\n",
    "    \n",
    "# compara('r2', {'r2':18.6}, {'r2':9.6})"
   ]
  },
  {
   "cell_type": "code",
   "execution_count": 57,
   "id": "4fa7f428",
   "metadata": {},
   "outputs": [],
   "source": [
    "comp_compara = comp.create_component_from_func(compara, \n",
    "                                                 output_component_file='compara_component.yaml',\n",
    "                                                 base_image='python:alpine3.6')"
   ]
  },
  {
   "cell_type": "code",
   "execution_count": 58,
   "id": "b0b8084f",
   "metadata": {},
   "outputs": [],
   "source": [
    "def previsao(feat:str, label:str, model_path:InputPath(), valor:float) -> float:\n",
    "\n",
    "    import pandas as pd\n",
    "    import pickle\n",
    "    \n",
    "    future = pd.DataFrame({feat:[valor]})\n",
    "    with open(model_path, 'rb') as f:\n",
    "        trained_model = pickle.load(f)\n",
    "\n",
    "    # Retorna a previsão do valor futuro do dólar quando a bolsa atinge ${valor} pontos\n",
    "        \n",
    "    return trained_model.predict(future)[0]\n",
    "    "
   ]
  },
  {
   "cell_type": "code",
   "execution_count": 59,
   "id": "bbb47279",
   "metadata": {},
   "outputs": [],
   "source": [
    "comp_previsao = comp.create_component_from_func(previsao, output_component_file='previsao_component.yaml'\n",
    "                                                ,base_image=BASE_IMAGE)"
   ]
  },
  {
   "cell_type": "code",
   "execution_count": 60,
   "id": "607ac2d2",
   "metadata": {},
   "outputs": [],
   "source": [
    "@dsl.pipeline(\n",
    "    name=PIPELINE_NAME,\n",
    "    description=PIPELINE_DESCRIPTION\n",
    ")\n",
    "def pipe(feat, label, valor, dataset, metric):\n",
    "\n",
    "    # Treinamento do algoritmo 1 (mais simples)\n",
    "    task_treina_1 = comp_treina(feat, label, dataset)\n",
    "\n",
    "    # Treinamento do algoritmo 2 (mais complexo)\n",
    "    task_treina_2 = comp_treina_2(feat, label, dataset)\n",
    "\n",
    "    \n",
    "    # Validação do modelo 1\n",
    "    task_valida_1 = comp_valida(feat, label, dataset, task_treina_1.output)\n",
    "    \n",
    "    # Validação do modelo 2\n",
    "    task_valida_2 = comp_valida(feat, label, dataset, task_treina_2.output)\n",
    "    \n",
    "    \n",
    "    # Compara a métrica desejada na validação dos modelos\n",
    "    task_compara = comp_compara(metric, task_valida_1.output, task_valida_2.output)\n",
    "    \n",
    "\n",
    "    # Caso o desempenho do modelo 1 na métrica desejada for igual ou superior ao do modelo 2:\n",
    "    # Essa forma de se fazer é interessante pois dsl.Condition() só permite usar uma única comparação\n",
    "    # A comparação pode ser com int, float, string, ...\n",
    "    with dsl.Condition(task_compara.output < 2): \n",
    "\n",
    "        # Previsão final usando o modelo 1\n",
    "        task_previsao = comp_previsao(feat, label, task_treina_1.output, valor)\n",
    "    \n",
    "    # Caso o desempenho do modelo 2 na métrica desejada for superior ao do modelo 1\n",
    "    with dsl.Condition(task_compara.output==2):\n",
    "\n",
    "        # Previsão final usando o modelo 2\n",
    "        task_previsao = comp_previsao(feat, label, task_treina_2.output, valor)\n",
    "    \n"
   ]
  },
  {
   "cell_type": "code",
   "execution_count": 61,
   "id": "cc444e4d",
   "metadata": {},
   "outputs": [],
   "source": [
    "# Instanciando um objeto-cliente para integração com o Kubeflow\n",
    "client = kfp.Client(host='http://localhost:8080/pipeline')"
   ]
  },
  {
   "cell_type": "code",
   "execution_count": 62,
   "id": "32ca8116",
   "metadata": {},
   "outputs": [],
   "source": [
    "args = {\n",
    "'feat': 'bolsa',\n",
    "'label': 'usd',\n",
    "'valor': '110',\n",
    "'dataset': DATASET,\n",
    "'metric' : 'r2'\n",
    "}\n",
    "\n",
    "# print(client.list_experiments())"
   ]
  },
  {
   "cell_type": "code",
   "execution_count": 63,
   "id": "b2841031",
   "metadata": {},
   "outputs": [
    {
     "data": {
      "text/html": [
       "<a href=\"http://localhost:8080/pipeline/#/experiments/details/5ebd0a7a-c96b-4213-b67f-015ebe36395d\" target=\"_blank\" >Experiment details</a>."
      ],
      "text/plain": [
       "<IPython.core.display.HTML object>"
      ]
     },
     "metadata": {},
     "output_type": "display_data"
    },
    {
     "data": {
      "text/html": [
       "<a href=\"http://localhost:8080/pipeline/#/runs/details/0ea3785c-ea2b-4930-8c05-95798de07b07\" target=\"_blank\" >Run details</a>."
      ],
      "text/plain": [
       "<IPython.core.display.HTML object>"
      ]
     },
     "metadata": {},
     "output_type": "display_data"
    },
    {
     "data": {
      "text/plain": [
       "RunPipelineResult(run_id=0ea3785c-ea2b-4930-8c05-95798de07b07)"
      ]
     },
     "execution_count": 63,
     "metadata": {},
     "output_type": "execute_result"
    }
   ],
   "source": [
    "# A execução do pipeline pode ser feita através do método create_run_from_pipeline_func()\n",
    "# que carrega as componentes \"comp_*\" já instanciadas no código e também o pipeline\n",
    "client.create_run_from_pipeline_func(pipe, arguments=args, experiment_name=EXPERIMENT_NAME, \n",
    "                                     run_name=RUN_NAME) "
   ]
  },
  {
   "cell_type": "code",
   "execution_count": 64,
   "id": "06ce6413",
   "metadata": {},
   "outputs": [],
   "source": [
    "# Outra forma de executarmos o pipeline é compilando ele gerando um .yaml \n",
    "# Desde que \n",
    "# que pode ser usado para criar e executar um pipeline\n",
    "cpl.Compiler().compile(\n",
    "    pipeline_func=pipe,\n",
    "    package_path=OUTPUT_PIPELINE_PATH\n",
    ")    "
   ]
  },
  {
   "cell_type": "code",
   "execution_count": null,
   "id": "ed439486",
   "metadata": {},
   "outputs": [],
   "source": [
    "client.create_run_from_pipeline_package(\n",
    "    pipeline_file=OUTPUT_PIPELINE_PATH,\n",
    "    arguments=args\n",
    ")"
   ]
  }
 ],
 "metadata": {
  "kernelspec": {
   "display_name": "Python 3 (ipykernel)",
   "language": "python",
   "name": "python3"
  },
  "language_info": {
   "codemirror_mode": {
    "name": "ipython",
    "version": 3
   },
   "file_extension": ".py",
   "mimetype": "text/x-python",
   "name": "python",
   "nbconvert_exporter": "python",
   "pygments_lexer": "ipython3",
   "version": "3.9.2"
  }
 },
 "nbformat": 4,
 "nbformat_minor": 5
}
