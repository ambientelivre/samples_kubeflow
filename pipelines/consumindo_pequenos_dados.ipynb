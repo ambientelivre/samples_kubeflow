{
 "cells": [
  {
   "cell_type": "code",
   "execution_count": 13,
   "id": "269c4f23",
   "metadata": {},
   "outputs": [],
   "source": [
    "from typing import NamedTuple\n",
    "\n",
    "import kfp\n",
    "from kfp.components import InputPath, InputTextFile, OutputPath, OutputTextFile\n",
    "from kfp.components import func_to_container_op\n",
    "import kfp.dsl as dsl"
   ]
  },
  {
   "cell_type": "code",
   "execution_count": 14,
   "id": "a3669ce3",
   "metadata": {},
   "outputs": [],
   "source": [
    "@func_to_container_op\n",
    "def imprima_texto_curto(text: str):\n",
    "    print(text)"
   ]
  },
  {
   "cell_type": "code",
   "execution_count": 15,
   "id": "80422150",
   "metadata": {},
   "outputs": [],
   "source": [
    "@dsl.pipeline(name='Pipeline Texto Curto',description='O pipeline passa uma pequena constante de texto para consumo')\n",
    "def constante_para_consumidor_pipeline():\n",
    "    consumidor_task = imprima_texto_curto('Olá Mundo')"
   ]
  },
  {
   "cell_type": "code",
   "execution_count": 16,
   "id": "2affa1b1",
   "metadata": {},
   "outputs": [
    {
     "data": {
      "text/html": [
       "<a href=\"http://localhost:8080/pipeline/#/experiments/details/f07f6d8e-9a37-4344-9622-9f08b4d796e7\" target=\"_blank\" >Experiment details</a>."
      ],
      "text/plain": [
       "<IPython.core.display.HTML object>"
      ]
     },
     "metadata": {},
     "output_type": "display_data"
    },
    {
     "data": {
      "text/html": [
       "<a href=\"http://localhost:8080/pipeline/#/runs/details/e3a20d50-0d93-455b-9b46-3eb014504815\" target=\"_blank\" >Run details</a>."
      ],
      "text/plain": [
       "<IPython.core.display.HTML object>"
      ]
     },
     "metadata": {},
     "output_type": "display_data"
    },
    {
     "data": {
      "text/plain": [
       "RunPipelineResult(run_id=e3a20d50-0d93-455b-9b46-3eb014504815)"
      ]
     },
     "execution_count": 16,
     "metadata": {},
     "output_type": "execute_result"
    }
   ],
   "source": [
    "kfp_endpoint='http://localhost:8080/pipeline'\n",
    "kfp.Client(host=kfp_endpoint).create_run_from_pipeline_func(constante_para_consumidor_pipeline, arguments={})"
   ]
  },
  {
   "cell_type": "code",
   "execution_count": null,
   "id": "f5ee0c30",
   "metadata": {},
   "outputs": [],
   "source": []
  }
 ],
 "metadata": {
  "kernelspec": {
   "display_name": "Python 3 (ipykernel)",
   "language": "python",
   "name": "python3"
  },
  "language_info": {
   "codemirror_mode": {
    "name": "ipython",
    "version": 3
   },
   "file_extension": ".py",
   "mimetype": "text/x-python",
   "name": "python",
   "nbconvert_exporter": "python",
   "pygments_lexer": "ipython3",
   "version": "3.9.2"
  }
 },
 "nbformat": 4,
 "nbformat_minor": 5
}
