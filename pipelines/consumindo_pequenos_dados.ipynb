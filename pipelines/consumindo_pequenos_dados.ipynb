{
 "cells": [
  {
   "cell_type": "code",
   "execution_count": null,
   "id": "269c4f23",
   "metadata": {},
   "outputs": [],
   "source": [
    "from typing import NamedTuple\n",
    "\n",
    "import kfp\n",
    "from kfp.components import InputPath, InputTextFile, OutputPath, OutputTextFile\n",
    "from kfp.components import func_to_container_op"
   ]
  },
  {
   "cell_type": "code",
   "execution_count": null,
   "id": "a3669ce3",
   "metadata": {},
   "outputs": [],
   "source": [
    "@func_to_container_op\n",
    "def imprima_texto_curto(text: str):\n",
    "    '''Imprima um texto curto'''\n",
    "    print(text)"
   ]
  },
  {
   "cell_type": "code",
   "execution_count": null,
   "id": "80422150",
   "metadata": {},
   "outputs": [],
   "source": [
    "def constante_para_consumidor_pipeline():\n",
    "    '''Pipeline que passa uma pequena conatante string para consumo'''\n",
    "    consumidor_task = imprima_texto_curto('Olá Mundo')"
   ]
  },
  {
   "cell_type": "code",
   "execution_count": null,
   "id": "2affa1b1",
   "metadata": {},
   "outputs": [],
   "source": [
    "kfp_endpoint='http://localhost:8080/pipeline'\n",
    "kfp.Client(host=kfp_endpoint).create_run_from_pipeline_func(constante_para_consumidor_pipeline, arguments={})"
   ]
  },
  {
   "cell_type": "code",
   "execution_count": null,
   "id": "f5ee0c30",
   "metadata": {},
   "outputs": [],
   "source": []
  }
 ],
 "metadata": {
  "kernelspec": {
   "display_name": "Python 3 (ipykernel)",
   "language": "python",
   "name": "python3"
  },
  "language_info": {
   "codemirror_mode": {
    "name": "ipython",
    "version": 3
   },
   "file_extension": ".py",
   "mimetype": "text/x-python",
   "name": "python",
   "nbconvert_exporter": "python",
   "pygments_lexer": "ipython3",
   "version": "3.9.2"
  }
 },
 "nbformat": 4,
 "nbformat_minor": 5
}
