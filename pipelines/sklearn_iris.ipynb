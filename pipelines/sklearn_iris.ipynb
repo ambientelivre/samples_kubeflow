{
 "cells": [
  {
   "cell_type": "code",
   "execution_count": 161,
   "id": "a4f30e71",
   "metadata": {},
   "outputs": [],
   "source": [
    "import kfp\n",
    "import kfp.components as comp\n",
    "import kfp.dsl as dsl\n",
    "from kfp.v2.dsl import (\n",
    "    component,\n",
    "    Output,\n",
    "    ClassificationMetrics,\n",
    "    Metrics,\n",
    "    HTML,\n",
    "    Markdown\n",
    ")"
   ]
  },
  {
   "cell_type": "code",
   "execution_count": 162,
   "id": "c75261fb",
   "metadata": {},
   "outputs": [],
   "source": [
    "def exploring_dataset(sizetreina:float) -> float:\n",
    "    from sklearn.datasets import load_iris # Load Iris Data\n",
    "    import pandas as pd\n",
    "    import numpy as np\n",
    "    \n",
    "    iris = load_iris() # Creating pd DataFrames\n",
    "    #print(\"Conteudo do Load Iris\")\n",
    "    #print(iris)\n",
    "    \n",
    "    \n",
    "    iris_df = pd.DataFrame(data= iris.data, columns= iris.feature_names)\n",
    "    \n",
    "    #print(\"Conteudo do Iris DF\")\n",
    "    #print(iris_df)\n",
    "    \n",
    "    \n",
    "    target_df = pd.DataFrame(data= iris.target, columns= ['species'])\n",
    "    #print(\"-------------------------------------\")    \n",
    "    #print(\"Conteudo do Iris DF\")\n",
    "    #print(target_df)\n",
    "    \n",
    "    species = []\n",
    "\n",
    "    for i in range(len(target_df['species'])):\n",
    "        if target_df['species'][i] == 0:\n",
    "            species.append(\"setosa\")\n",
    "        elif target_df['species'][i] == 1:\n",
    "            species.append('versicolor')\n",
    "        else:\n",
    "            species.append('virginica')\n",
    "            \n",
    "    #print(\"-------------------------------------\")    \n",
    "    #print(\"Conteudo do Array species\")\n",
    "    #print(species)\n",
    "            \n",
    "\n",
    "    target_df['species'] = species\n",
    "    #print(\"-------------------------------------\")    \n",
    "    #print(\"Conteudo do Dataframe target_df\")\n",
    "    #print(target_df)\n",
    "        \n",
    "    iris_df = pd.concat([iris_df, target_df], axis= 1)\n",
    "    #print(\"-------------------------------------\")    \n",
    "    #print(\"Conteudo do Dataframe iris_df\")\n",
    "    #print(iris_df)\n",
    "    \n",
    "    \n",
    "    from sklearn.model_selection import train_test_split  \n",
    "    from sklearn.linear_model import LogisticRegression\n",
    "    from sklearn.linear_model import LinearRegression\n",
    "    \n",
    "    \n",
    "    # Converting Objects to Numerical dtype\n",
    "    iris_df.drop('species', axis= 1, inplace= True)\n",
    "    #print(\"-------------------------------------\")    \n",
    "    #print(\"Conteudo do Dataframe iris_df pos Drop\")\n",
    "    #print(iris_df)\n",
    "    \n",
    "    target_df = pd.DataFrame(columns= ['species'], data= iris.target)\n",
    "    #print(\"-------------------------------------\")    \n",
    "    #print(\"Conteudo do Dataframe target_df 2\")\n",
    "    #print(target_df)\n",
    "    \n",
    "    \n",
    "    iris_df = pd.concat([iris_df, target_df], axis= 1)# Variables\n",
    "    #print(\"-------------------------------------\")    \n",
    "    #print(\"Conteudo do Dataframe IRIS Final\")\n",
    "    #print(iris_df)    \n",
    "    \n",
    "    \n",
    "    X= iris_df.drop(labels= 'sepal length (cm)', axis= 1)\n",
    "    y= iris_df['sepal length (cm)']\n",
    "\n",
    "    # Splitting the Dataset \n",
    "    X_train, X_test, y_train, y_test = train_test_split(X, y, test_size= sizetreina, random_state= 101)\n",
    "    #print(\"-------------------------------------\")    \n",
    "    #print(\"Conteudo do Dataframe X_train\")\n",
    "    #print(X_train)  \n",
    "    #print(\"-------------------------------------\")    \n",
    "    #print(\"Conteudo do Dataframe X_test\")\n",
    "    #print(X_test)  \n",
    "    \n",
    "    #print(\"-------------------------------------\")    \n",
    "    #print(\"Conteudo do Dataframe y_train\")\n",
    "    #print(y_train)  \n",
    "    #print(\"-------------------------------------\")    \n",
    "    #print(\"Conteudo do Dataframe y_test\")\n",
    "    #print(y_test)  \n",
    "\n",
    "    \n",
    "\n",
    "    # Instantiating LinearRegression() Model\n",
    "    lr = LinearRegression()\n",
    "\n",
    "    # Training/Fitting the Model\n",
    "    lr.fit(X_train, y_train)\n",
    "    \n",
    "    # Making Predictions\n",
    "    lr.predict(X_test)\n",
    "    \n",
    "    \n",
    "    #print(\"-------------------------------------\")    \n",
    "    #print(\"Conteudo do lr.predict(X_test)\")\n",
    "    #print(lr.predict(X_test))\n",
    "    #print(\"-------------------------------------\")        \n",
    "    \n",
    "    \n",
    "    pred = lr.predict(X_test)\n",
    "\n",
    "    from sklearn import metrics\n",
    "    from sklearn.metrics import mean_absolute_error\n",
    "    from sklearn.metrics import mean_squared_error\n",
    "\n",
    "    #print(\"-------------------------------------\")   \n",
    "    #print(\"Reports Prediction\")\n",
    "    #print(metrics.classification_report(y_test, pred, digits=3))        \n",
    "        \n",
    "        \n",
    "    # Evaluating Model's Performance\n",
    "    print('Mean Absolute Error:', mean_absolute_error(y_test, pred))\n",
    "    #print('Mean Squared Error:', mean_squared_error(y_test, pred))\n",
    "    #print('Mean Root Squared Error:', np.sqrt(mean_squared_error(y_test, pred))) \n",
    "    #print('r2_score ', metrics.r2_score(y_test, pred))\n",
    "    \n",
    "    #d = {'sepal length (cm)' : [4.6],\n",
    "    #    'sepal width (cm)' : [3.4],\n",
    "    #    'petal length (cm)' : [1.4],\n",
    "    #    'petal width (cm)' : [0.3],\n",
    "    #    'species' : 0}\n",
    "    d = {'sepal width (cm)' : [0.2],\n",
    "        'petal length (cm)' : [4.2],\n",
    "        'petal width (cm)' : [1.4],\n",
    "        'species' : 0}\n",
    "    \n",
    "    test_df = pd.DataFrame(data= d)\n",
    "    \n",
    "    #print(test_df)    \n",
    "    pred2 = lr.predict(test_df)\n",
    "    \n",
    "    #print('Predicted Sepal Length (cm):', pred2[0])\n",
    "    #print('Actual Sepal Length (cm):', 4.6)\n",
    "    #print(pred2)\n",
    "    \n",
    "    return mean_absolute_error(y_test, pred)\n",
    "    "
   ]
  },
  {
   "cell_type": "code",
   "execution_count": 163,
   "id": "94065294",
   "metadata": {},
   "outputs": [],
   "source": [
    "exploring_data = comp.create_component_from_func(exploring_dataset,output_component_file='iris/exploring_component.yaml',base_image='tensorflow/tensorflow:1.12.0-py3')"
   ]
  },
  {
   "cell_type": "code",
   "execution_count": 164,
   "id": "16a4adf8",
   "metadata": {},
   "outputs": [],
   "source": [
    "@component(\n",
    "    packages_to_install=['scikit-learn'],\n",
    "    base_image='python:3.9',\n",
    ")\n",
    "def iris_sgdclassifier(test_samples_fraction: float, metrics: Output[ClassificationMetrics]):\n",
    "    from sklearn import datasets, model_selection\n",
    "    from sklearn.linear_model import SGDClassifier\n",
    "    from sklearn.metrics import confusion_matrix\n",
    "\n",
    "    iris_dataset = datasets.load_iris()\n",
    "    train_x, test_x, train_y, test_y = model_selection.train_test_split(\n",
    "        iris_dataset['data'], iris_dataset['target'], test_size=test_samples_fraction)\n",
    "\n",
    "\n",
    "    classifier = SGDClassifier()\n",
    "    classifier.fit(train_x, train_y)\n",
    "    predictions = model_selection.cross_val_predict(classifier, train_x, train_y, cv=3)\n",
    "    metrics.log_confusion_matrix(\n",
    "        ['Setosa', 'Versicolour', 'Virginica'],\n",
    "        confusion_matrix(train_y, predictions).tolist() # .tolist() to convert np array to list.\n",
    "    )"
   ]
  },
  {
   "cell_type": "code",
   "execution_count": 165,
   "id": "216437c8",
   "metadata": {},
   "outputs": [],
   "source": [
    "@component\n",
    "def markdown_visualization(markdown_artifact: Output[Markdown]):\n",
    "    markdown_content = '## Hello world \\n\\n Markdown content'\n",
    "    with open(markdown_artifact.path, 'w') as f:\n",
    "        f.write(markdown_content)"
   ]
  },
  {
   "cell_type": "code",
   "execution_count": 168,
   "id": "7350e147",
   "metadata": {},
   "outputs": [],
   "source": [
    "#def pipeline_iris():\n",
    "#    exploring = exploring_data()\n",
    "@dsl.pipeline(name='metrics-visualization-pipeline')\n",
    "def metrics_visualization_pipeline():\n",
    "    #iris_sgdclassifier_op = iris_sgdclassifier(test_samples_fraction=0.4)\n",
    "    md = markdown_visualization()\n",
    "    #e = exploring_data(0.50)\n",
    "    "
   ]
  },
  {
   "cell_type": "code",
   "execution_count": 170,
   "id": "25bbda94",
   "metadata": {},
   "outputs": [
    {
     "data": {
      "text/html": [
       "<a href=\"http://localhost:8080/pipeline/#/experiments/details/e0848577-2f4e-4e89-bdfa-b458b4771102\" target=\"_blank\" >Experiment details</a>."
      ],
      "text/plain": [
       "<IPython.core.display.HTML object>"
      ]
     },
     "metadata": {},
     "output_type": "display_data"
    },
    {
     "data": {
      "text/html": [
       "<a href=\"http://localhost:8080/pipeline/#/runs/details/fcd34fbe-0dd3-4974-b304-b4cc9e88ce5a\" target=\"_blank\" >Run details</a>."
      ],
      "text/plain": [
       "<IPython.core.display.HTML object>"
      ]
     },
     "metadata": {},
     "output_type": "display_data"
    },
    {
     "data": {
      "text/plain": [
       "RunPipelineResult(run_id=fcd34fbe-0dd3-4974-b304-b4cc9e88ce5a)"
      ]
     },
     "execution_count": 170,
     "metadata": {},
     "output_type": "execute_result"
    }
   ],
   "source": [
    "client = kfp.Client(host='http://localhost:8080/pipeline')\n",
    "FILE = ''\n",
    "args = {}\n",
    "##print(client.list_experiments())\n",
    "#client.create_run_from_pipeline_func(metrics_visualization_pipeline,arguments=args)\n",
    "client.create_run_from_pipeline_func(metrics_visualization_pipeline,mode=kfp.dsl.PipelineExecutionMode.V2_COMPATIBLE,arguments=args)"
   ]
  },
  {
   "cell_type": "code",
   "execution_count": null,
   "id": "bb842b95",
   "metadata": {},
   "outputs": [],
   "source": []
  }
 ],
 "metadata": {
  "kernelspec": {
   "display_name": "Python 3 (ipykernel)",
   "language": "python",
   "name": "python3"
  },
  "language_info": {
   "codemirror_mode": {
    "name": "ipython",
    "version": 3
   },
   "file_extension": ".py",
   "mimetype": "text/x-python",
   "name": "python",
   "nbconvert_exporter": "python",
   "pygments_lexer": "ipython3",
   "version": "3.9.2"
  }
 },
 "nbformat": 4,
 "nbformat_minor": 5
}
