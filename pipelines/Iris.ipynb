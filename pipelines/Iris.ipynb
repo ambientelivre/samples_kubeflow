{
 "cells": [
  {
   "cell_type": "code",
   "execution_count": 4,
   "id": "8440ad00",
   "metadata": {},
   "outputs": [],
   "source": [
    "import kfp\n",
    "import kfp.components as comp\n",
    "import kfp.dsl as dsl"
   ]
  },
  {
   "cell_type": "code",
   "execution_count": 29,
   "id": "4a3170a6",
   "metadata": {},
   "outputs": [],
   "source": [
    "def exploring_dataset():\n",
    "    from sklearn.datasets import load_iris # Load Iris Data\n",
    "    import pandas as pd\n",
    "    import numpy as np\n",
    "    \n",
    "    iris = load_iris() # Creating pd DataFrames\n",
    "    iris_df = pd.DataFrame(data= iris.data, columns= iris.feature_names)\n",
    "    target_df = pd.DataFrame(data= iris.target, columns= ['species'])\n",
    "    \n",
    "    species = []\n",
    "\n",
    "    for i in range(len(target_df['species'])):\n",
    "        if target_df['species'][i] == 0:\n",
    "            species.append(\"setosa\")\n",
    "        elif target_df['species'][i] == 1:\n",
    "            species.append('versicolor')\n",
    "        else:\n",
    "            species.append('virginica')\n",
    "\n",
    "    target_df['species'] = species \n",
    "    \n",
    "    iris_df = pd.concat([iris_df, target_df], axis= 1)\n",
    "    \n",
    "    print(iris_df)\n",
    "    print(target_df)\n",
    "    \n",
    "    from sklearn.model_selection import train_test_split  \n",
    "    from sklearn.linear_model import LogisticRegression\n",
    "    from sklearn.linear_model import LinearRegression\n",
    "    \n",
    "    \n",
    "    # Converting Objects to Numerical dtype\n",
    "    iris_df.drop('species', axis= 1, inplace= True)\n",
    "    target_df = pd.DataFrame(columns= ['species'], data= iris.target)\n",
    "    iris_df = pd.concat([iris_df, target_df], axis= 1)# Variables\n",
    "    X= iris_df.drop(labels= 'sepal length (cm)', axis= 1)\n",
    "    y= iris_df['sepal length (cm)']\n",
    "\n",
    "    # Splitting the Dataset \n",
    "    X_train, X_test, y_train, y_test = train_test_split(X, y, test_size= 0.33, random_state= 101)\n",
    "\n",
    "    # Instantiating LinearRegression() Model\n",
    "    lr = LinearRegression()\n",
    "\n",
    "    # Training/Fitting the Model\n",
    "    lr.fit(X_train, y_train)\n",
    "\n",
    "    # Making Predictions\n",
    "    lr.predict(X_test)\n",
    "    pred = lr.predict(X_test)\n",
    "\n",
    "    from sklearn import metrics\n",
    "    from sklearn.metrics import mean_absolute_error\n",
    "    from sklearn.metrics import mean_squared_error\n",
    "        \n",
    "    # Evaluating Model's Performance\n",
    "    print('Mean Absolute Error:', mean_absolute_error(y_test, pred))\n",
    "    print('Mean Squared Error:', mean_squared_error(y_test, pred))\n",
    "    print('Mean Root Squared Error:', np.sqrt(mean_squared_error(y_test, pred))) \n",
    "    \n",
    "    \n",
    "    d = {'sepal length (cm)' : [4.6],\n",
    "        'sepal width (cm)' : [3.4],\n",
    "        'petal length (cm)' : [1.4],\n",
    "        'petal width (cm)' : [0.3],\n",
    "        'species' : 0}\n",
    "    test_df = pd.DataFrame(data= d)\n",
    "    test_df\n",
    "    \n",
    "    print(test_df)\n",
    "    \n",
    "    pred = lr.predict(X_test)\n",
    "    \n",
    "    print('Predicted Sepal Length (cm):', pred[0])\n",
    "    print('Actual Sepal Length (cm):', 4.6)"
   ]
  },
  {
   "cell_type": "code",
   "execution_count": 30,
   "id": "f27e9982",
   "metadata": {},
   "outputs": [],
   "source": [
    "#exploring_data = comp.create_component_from_func(exploring_dataset,output_component_file='iris/exploring_component.yaml',base_image='tensorflow/tensorflow:1.11.0-py3')\n",
    "exploring_data = comp.create_component_from_func(exploring_dataset,output_component_file='iris/exploring_component.yaml',base_image='tensorflow/tensorflow:1.12.0-py3')\n",
    "\n"
   ]
  },
  {
   "cell_type": "code",
   "execution_count": 31,
   "id": "60a6677d",
   "metadata": {},
   "outputs": [],
   "source": [
    "def convert_dataset(iris:object):\n",
    "    species = []\n",
    "\n",
    "    for i in range(len(iris['target'])):\n",
    "        if iris['target'][i] == 0:\n",
    "            species.append(\"setosa\")\n",
    "        elif iris['target'][i] == 1:\n",
    "            species.append('versicolor')\n",
    "        else:\n",
    "            species.append('virginica')\n",
    "\n",
    "    iris['species'] = species"
   ]
  },
  {
   "cell_type": "code",
   "execution_count": 32,
   "id": "af777b45",
   "metadata": {},
   "outputs": [],
   "source": [
    "convert_data = comp.create_component_from_func(convert_dataset,output_component_file='iris/convert_component.yaml',base_image='tensorflow/tensorflow:1.11.0-py3')"
   ]
  },
  {
   "cell_type": "code",
   "execution_count": 33,
   "id": "67784fc1",
   "metadata": {},
   "outputs": [],
   "source": [
    "@dsl.pipeline(name='Pipeline Iris',description='Analise de dados do dataset IRIS')\n",
    "def pipeline_iris():\n",
    "    exploring = exploring_data()\n",
    "    #convert = convert_data(exploring_data.output)\n",
    "    "
   ]
  },
  {
   "cell_type": "code",
   "execution_count": 34,
   "id": "1d647f6e",
   "metadata": {},
   "outputs": [
    {
     "data": {
      "text/html": [
       "<a href=\"http://localhost:8080/pipeline/#/experiments/details/e0848577-2f4e-4e89-bdfa-b458b4771102\" target=\"_blank\" >Experiment details</a>."
      ],
      "text/plain": [
       "<IPython.core.display.HTML object>"
      ]
     },
     "metadata": {},
     "output_type": "display_data"
    },
    {
     "data": {
      "text/html": [
       "<a href=\"http://localhost:8080/pipeline/#/runs/details/5543bdb9-a9d2-4c05-a424-cc57556619e8\" target=\"_blank\" >Run details</a>."
      ],
      "text/plain": [
       "<IPython.core.display.HTML object>"
      ]
     },
     "metadata": {},
     "output_type": "display_data"
    },
    {
     "data": {
      "text/plain": [
       "RunPipelineResult(run_id=5543bdb9-a9d2-4c05-a424-cc57556619e8)"
      ]
     },
     "execution_count": 34,
     "metadata": {},
     "output_type": "execute_result"
    }
   ],
   "source": [
    "client = kfp.Client(host='http://localhost:8080/pipeline')\n",
    "FILE = ''\n",
    "args = {}\n",
    "##print(client.list_experiments())\n",
    "client.create_run_from_pipeline_func(pipeline_iris,arguments=args)"
   ]
  },
  {
   "cell_type": "code",
   "execution_count": null,
   "id": "eef3272e",
   "metadata": {},
   "outputs": [],
   "source": []
  }
 ],
 "metadata": {
  "kernelspec": {
   "display_name": "Python 3 (ipykernel)",
   "language": "python",
   "name": "python3"
  },
  "language_info": {
   "codemirror_mode": {
    "name": "ipython",
    "version": 3
   },
   "file_extension": ".py",
   "mimetype": "text/x-python",
   "name": "python",
   "nbconvert_exporter": "python",
   "pygments_lexer": "ipython3",
   "version": "3.9.2"
  }
 },
 "nbformat": 4,
 "nbformat_minor": 5
}
