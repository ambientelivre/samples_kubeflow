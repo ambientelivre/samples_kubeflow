{
 "cells": [
  {
   "cell_type": "code",
   "execution_count": 20,
   "id": "ce928dda",
   "metadata": {},
   "outputs": [],
   "source": [
    "import kfp\n",
    "import kfp.components as comp\n",
    "import kfp.dsl as dsl"
   ]
  },
  {
   "cell_type": "code",
   "execution_count": 21,
   "id": "26b37fe0",
   "metadata": {},
   "outputs": [],
   "source": [
    "def treina(feat:str, label:str,file:str) -> (float,float) :\n",
    "    import pandas\n",
    "    from sklearn.linear_model import LinearRegression\n",
    "    df = pandas.read_csv(file)\n",
    "    reglin = LinearRegression()\n",
    "    reglin.fit(df[[feat]], df[label])\n",
    "    return (reglin.coef_[0], reglin.intercept_)"
   ]
  },
  {
   "cell_type": "code",
   "execution_count": 22,
   "id": "e6f25cb7",
   "metadata": {},
   "outputs": [],
   "source": [
    "comp_treina = comp.create_component_from_func(treina,output_component_file='treina_component.yaml',base_image='tensorflow/tensorflow:1.11.0-py3')"
   ]
  },
  {
   "cell_type": "code",
   "execution_count": 23,
   "id": "b8611d2e",
   "metadata": {},
   "outputs": [],
   "source": [
    "def valida (rl: (float,float),feat:str, label:str, file:str) -> float :\n",
    "    import pandas\n",
    "    from sklearn.linear_model import LinearRegression\n",
    "    df = pandas.read_csv(file)\n",
    "    reglin = LinearRegression()\n",
    "    reglin.fit(df[[feat]], df[label])\n",
    "    r2 = reglin.score(df[[feat]], df[label])\n",
    "    return r2"
   ]
  },
  {
   "cell_type": "code",
   "execution_count": 24,
   "id": "eac6f60d",
   "metadata": {},
   "outputs": [],
   "source": [
    "comp_valida = comp.create_component_from_func(valida,output_component_file='valida_component.yaml',base_image='tensorflow/tensorflow:1.11.0-py3')"
   ]
  },
  {
   "cell_type": "code",
   "execution_count": 25,
   "id": "34a9ded4",
   "metadata": {},
   "outputs": [],
   "source": [
    "def previsao(r2:float, feat:str, label:str, valor:float, file:str) -> float:\n",
    "    import pandas\n",
    "    from sklearn.linear_model import LinearRegression\n",
    "    df = pandas.read_csv(file)\n",
    "    reglin = LinearRegression()\n",
    "    reglin.fit(df[[feat]], df[label])\n",
    "    future = pandas.DataFrame({feat:[valor]})\n",
    "    return reglin.predict(future)[0]\n",
    "    "
   ]
  },
  {
   "cell_type": "code",
   "execution_count": 26,
   "id": "31027c24",
   "metadata": {},
   "outputs": [],
   "source": [
    "comp_previsao = comp.create_component_from_func(previsao,output_component_file='previsao_component.yaml',base_image='tensorflow/tensorflow:1.11.0-py3')"
   ]
  },
  {
   "cell_type": "code",
   "execution_count": 27,
   "id": "c4cfcc30",
   "metadata": {},
   "outputs": [],
   "source": [
    "@dsl.pipeline(name='Pipeline Data',description='Dados Bolsa X Dolar')\n",
    "def pipe(feat, label, valor, file):\n",
    "    task_treina   = comp_treina(feat,label,file)\n",
    "    task_valida   = comp_valida(task_treina.output,feat,label,file)\n",
    "    task_previsao = comp_previsao(task_valida.output,feat,label,valor,file)"
   ]
  },
  {
   "cell_type": "code",
   "execution_count": 29,
   "id": "f708ce20",
   "metadata": {},
   "outputs": [
    {
     "data": {
      "text/html": [
       "<a href=\"http://localhost:8080/pipeline/#/experiments/details/e0848577-2f4e-4e89-bdfa-b458b4771102\" target=\"_blank\" >Experiment details</a>."
      ],
      "text/plain": [
       "<IPython.core.display.HTML object>"
      ]
     },
     "metadata": {},
     "output_type": "display_data"
    },
    {
     "data": {
      "text/html": [
       "<a href=\"http://localhost:8080/pipeline/#/runs/details/52e07586-a114-4d29-a393-b7356c877ae5\" target=\"_blank\" >Run details</a>."
      ],
      "text/plain": [
       "<IPython.core.display.HTML object>"
      ]
     },
     "metadata": {},
     "output_type": "display_data"
    },
    {
     "data": {
      "text/plain": [
       "RunPipelineResult(run_id=52e07586-a114-4d29-a393-b7356c877ae5)"
      ]
     },
     "execution_count": 29,
     "metadata": {},
     "output_type": "execute_result"
    }
   ],
   "source": [
    "client = kfp.Client(host='http://localhost:8080/pipeline')\n",
    "FILE = 'https://raw.githubusercontent.com/ambientelivre/samples_kubeflow/main/datasets/bolsa.csv'\n",
    "args = {'feat':'bolsa','label':'usd','valor':'110','file':FILE}\n",
    "##print(client.list_experiments())\n",
    "client.create_run_from_pipeline_func(pipe,arguments=args)"
   ]
  },
  {
   "cell_type": "code",
   "execution_count": null,
   "id": "bbe29dbf",
   "metadata": {},
   "outputs": [],
   "source": []
  }
 ],
 "metadata": {
  "kernelspec": {
   "display_name": "Python 3 (ipykernel)",
   "language": "python",
   "name": "python3"
  },
  "language_info": {
   "codemirror_mode": {
    "name": "ipython",
    "version": 3
   },
   "file_extension": ".py",
   "mimetype": "text/x-python",
   "name": "python",
   "nbconvert_exporter": "python",
   "pygments_lexer": "ipython3",
   "version": "3.9.2"
  }
 },
 "nbformat": 4,
 "nbformat_minor": 5
}
