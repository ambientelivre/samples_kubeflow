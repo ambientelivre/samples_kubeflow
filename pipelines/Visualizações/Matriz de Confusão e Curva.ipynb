{
 "cells": [
  {
   "cell_type": "code",
   "execution_count": 1,
   "id": "ea86a5a9",
   "metadata": {},
   "outputs": [],
   "source": [
    "import kfp as kfp\n",
    "import kfp.compiler as cpl\n",
    "from kfp import dsl\n",
    "from kfp.v2.dsl import component, Input, Output, OutputPath, Dataset, Model, ClassificationMetrics\n",
    "import datetime"
   ]
  },
  {
   "cell_type": "code",
   "execution_count": 2,
   "id": "d2438fa3",
   "metadata": {},
   "outputs": [],
   "source": [
    "PYTHON_PACKAGES = ['scikit-learn']\n",
    "BASE_IMAGE = 'python:3.9'\n",
    "EXPERIMENT_NAME = 'VISUALIZACOES'\n",
    "RUN_NAME = 'RUN_'"
   ]
  },
  {
   "cell_type": "code",
   "execution_count": 3,
   "id": "da246596",
   "metadata": {},
   "outputs": [],
   "source": [
    "@component(\n",
    "    packages_to_install=PYTHON_PACKAGES,\n",
    "    base_image=BASE_IMAGE,\n",
    "    output_component_file='iris_confusion_matrix.yaml'\n",
    ")\n",
    "def iris_sgdclassifier(test_samples_fraction: float, metrics: Output[ClassificationMetrics]):\n",
    "    from sklearn import datasets, model_selection\n",
    "    from sklearn.linear_model import SGDClassifier\n",
    "    from sklearn.metrics import confusion_matrix\n",
    "\n",
    "    iris_dataset = datasets.load_iris()\n",
    "    train_x, test_x, train_y, test_y = model_selection.train_test_split(\n",
    "        iris_dataset['data'], iris_dataset['target'], test_size=test_samples_fraction)\n",
    "\n",
    "    classifier = SGDClassifier()\n",
    "    classifier.fit(train_x, train_y)\n",
    "    predictions = model_selection.cross_val_predict(classifier, train_x, train_y, cv=3)\n",
    "    metrics.log_confusion_matrix(\n",
    "        ['Setosa', 'Versicolour', 'Virginica'],\n",
    "        confusion_matrix(train_y, predictions).tolist() # .tolist() to convert np array to list.\n",
    "    )"
   ]
  },
  {
   "cell_type": "code",
   "execution_count": 4,
   "id": "bb02754b",
   "metadata": {},
   "outputs": [],
   "source": [
    "@component(\n",
    "    packages_to_install=PYTHON_PACKAGES,\n",
    "    base_image=BASE_IMAGE,\n",
    "    output_component_file='wine_roc_curve.yaml'\n",
    ")\n",
    "def wine_classification(n_estimators: int, metrics: Output[ClassificationMetrics]):\n",
    "    from sklearn.ensemble import RandomForestClassifier\n",
    "    from sklearn.metrics import roc_curve\n",
    "    from sklearn.datasets import load_wine\n",
    "    from sklearn.model_selection import train_test_split, cross_val_predict\n",
    "\n",
    "    X, y = load_wine(return_X_y=True)\n",
    "    # Binary classification problem for label 1.\n",
    "    y = y == 1\n",
    "\n",
    "    X_train, X_test, y_train, y_test = train_test_split(X, y, random_state=42)\n",
    "    rfc = RandomForestClassifier(n_estimators=10, random_state=42)\n",
    "    rfc.fit(X_train, y_train)\n",
    "    y_scores = cross_val_predict(\n",
    "        rfc, X_train, y_train, cv=3, method='predict_proba')\n",
    "    y_predict = cross_val_predict(rfc, X_train, y_train, cv=3, method='predict')\n",
    "    fpr, tpr, thresholds = roc_curve(\n",
    "        y_true=y_train, y_score=y_scores[:, 1], pos_label=True)\n",
    "    metrics.log_roc_curve(fpr, tpr, thresholds)"
   ]
  },
  {
   "cell_type": "code",
   "execution_count": 5,
   "id": "a92c7ace",
   "metadata": {},
   "outputs": [],
   "source": [
    "@dsl.pipeline(\n",
    "    name='metrics-visualization-pipeline'\n",
    ")\n",
    "def metrics_visualization_pipeline(n_estimators:int, test_samples_fraction:float):\n",
    "    create_confusion_matrix = iris_sgdclassifier(test_samples_fraction=test_samples_fraction)\n",
    "    creata_roc_curve = wine_classification(n_estimators=n_estimators)"
   ]
  },
  {
   "cell_type": "code",
   "execution_count": 6,
   "id": "5203f6f8",
   "metadata": {},
   "outputs": [],
   "source": [
    "KFP_ENDPOINT='http://localhost:8080/pipeline'\n",
    "client = kfp.Client(host=KFP_ENDPOINT)"
   ]
  },
  {
   "cell_type": "code",
   "execution_count": 7,
   "id": "a3c430cd",
   "metadata": {},
   "outputs": [
    {
     "name": "stderr",
     "output_type": "stream",
     "text": [
      "/opt/hacks/kubeflow/lib/python3.9/site-packages/kfp/compiler/compiler.py:79: UserWarning: V2_COMPATIBLE execution mode is at Beta quality. Some pipeline features may not work as expected.\n",
      "  warnings.warn('V2_COMPATIBLE execution mode is at Beta quality.'\n"
     ]
    },
    {
     "data": {
      "text/html": [
       "<a href=\"http://localhost:8080/pipeline/#/experiments/details/ecca8b4b-cce2-4d53-85fe-0e378b01eab2\" target=\"_blank\" >Experiment details</a>."
      ],
      "text/plain": [
       "<IPython.core.display.HTML object>"
      ]
     },
     "metadata": {},
     "output_type": "display_data"
    },
    {
     "data": {
      "text/html": [
       "<a href=\"http://localhost:8080/pipeline/#/runs/details/110c856f-c82d-450b-97d7-e3debe2e5a2f\" target=\"_blank\" >Run details</a>."
      ],
      "text/plain": [
       "<IPython.core.display.HTML object>"
      ]
     },
     "metadata": {},
     "output_type": "display_data"
    },
    {
     "data": {
      "text/plain": [
       "RunPipelineResult(run_id=110c856f-c82d-450b-97d7-e3debe2e5a2f)"
      ]
     },
     "execution_count": 7,
     "metadata": {},
     "output_type": "execute_result"
    }
   ],
   "source": [
    "args = {\n",
    "    'n_estimators': 58,\n",
    "    'test_samples_fraction': 0.2\n",
    "}\n",
    "\n",
    "client.create_run_from_pipeline_func(\n",
    "    metrics_visualization_pipeline,\n",
    "    mode=kfp.dsl.PipelineExecutionMode.V2_COMPATIBLE,\n",
    "    arguments=args,\n",
    "    experiment_name=EXPERIMENT_NAME, \n",
    "    run_name=RUN_NAME+str(datetime.datetime.now())\n",
    ")"
   ]
  },
  {
   "cell_type": "markdown",
   "id": "1a9c8c83",
   "metadata": {},
   "source": [
    "## Compilando o pipeline de modo compatível com SDK V2 e executando"
   ]
  },
  {
   "cell_type": "code",
   "execution_count": 8,
   "id": "1a6678ad",
   "metadata": {},
   "outputs": [],
   "source": [
    "cpl.Compiler(mode=kfp.dsl.PipelineExecutionMode.V2_COMPATIBLE).compile(\n",
    "    pipeline_func=metrics_visualization_pipeline,\n",
    "    package_path='pipeline_iris_e_wine.yaml'\n",
    ")    "
   ]
  },
  {
   "cell_type": "code",
   "execution_count": 9,
   "id": "fc162a7c",
   "metadata": {},
   "outputs": [
    {
     "data": {
      "text/html": [
       "<a href=\"http://localhost:8080/pipeline/#/experiments/details/ecca8b4b-cce2-4d53-85fe-0e378b01eab2\" target=\"_blank\" >Experiment details</a>."
      ],
      "text/plain": [
       "<IPython.core.display.HTML object>"
      ]
     },
     "metadata": {},
     "output_type": "display_data"
    },
    {
     "data": {
      "text/html": [
       "<a href=\"http://localhost:8080/pipeline/#/runs/details/16c69539-68d2-4b09-a907-bcc3887aaa38\" target=\"_blank\" >Run details</a>."
      ],
      "text/plain": [
       "<IPython.core.display.HTML object>"
      ]
     },
     "metadata": {},
     "output_type": "display_data"
    },
    {
     "data": {
      "text/plain": [
       "RunPipelineResult(run_id=16c69539-68d2-4b09-a907-bcc3887aaa38)"
      ]
     },
     "execution_count": 9,
     "metadata": {},
     "output_type": "execute_result"
    }
   ],
   "source": [
    "args = {\n",
    "    'n_estimators': 22,\n",
    "    'test_samples_fraction': 0.08\n",
    "}\n",
    "\n",
    "client.create_run_from_pipeline_package(\n",
    "    pipeline_file='pipeline_iris_e_wine.yaml',\n",
    "    arguments=args,\n",
    "    experiment_name=EXPERIMENT_NAME, \n",
    "    run_name=RUN_NAME+str(datetime.datetime.now())\n",
    ")"
   ]
  },
  {
   "cell_type": "code",
   "execution_count": null,
   "id": "117b9311",
   "metadata": {},
   "outputs": [],
   "source": []
  }
 ],
 "metadata": {
  "kernelspec": {
   "display_name": "Python 3 (ipykernel)",
   "language": "python",
   "name": "python3"
  },
  "language_info": {
   "codemirror_mode": {
    "name": "ipython",
    "version": 3
   },
   "file_extension": ".py",
   "mimetype": "text/x-python",
   "name": "python",
   "nbconvert_exporter": "python",
   "pygments_lexer": "ipython3",
   "version": "3.9.2"
  }
 },
 "nbformat": 4,
 "nbformat_minor": 5
}
